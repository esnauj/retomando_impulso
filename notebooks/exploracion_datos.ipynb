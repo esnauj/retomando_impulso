{
 "cells": [
  {
   "cell_type": "code",
   "execution_count": null,
   "id": "fb6c6903",
   "metadata": {
    "vscode": {
     "languageId": "plaintext"
    }
   },
   "outputs": [],
   "source": [
    "import pandas as pd\n",
    "import numpy as np\n",
    "import matplotlib.pyplot as plt\n",
    "import seaborn as sns"
   ]
  },
  {
   "cell_type": "code",
   "execution_count": null,
   "id": "b463eacd",
   "metadata": {
    "vscode": {
     "languageId": "plaintext"
    }
   },
   "outputs": [],
   "source": [
    "df_recorridos = pd.read_csv(\"/content/badata_ecobici_recorridos_realizados_2024.csv\")\n",
    "df_usuarios = pd.read_csv(\"/content/usuarios_ecobici_2024.csv\")"
   ]
  },
  {
   "cell_type": "code",
   "execution_count": null,
   "id": "c5a5a594",
   "metadata": {
    "vscode": {
     "languageId": "plaintext"
    }
   },
   "outputs": [],
   "source": [
    "df_recorridos.head()"
   ]
  },
  {
   "cell_type": "code",
   "execution_count": null,
   "id": "8777bf85",
   "metadata": {
    "vscode": {
     "languageId": "plaintext"
    }
   },
   "outputs": [],
   "source": [
    "df_recorridos.head()"
   ]
  },
  {
   "cell_type": "code",
   "execution_count": null,
   "id": "a1f55659",
   "metadata": {
    "vscode": {
     "languageId": "plaintext"
    }
   },
   "outputs": [],
   "source": [
    "shape_recorridos = df_recorridos.shape\n",
    "shape_usuarios = df_usuarios.shape\n",
    "\n",
    "print(shape_recorridos)\n",
    "print(shape_usuarios)"
   ]
  },
  {
   "cell_type": "code",
   "execution_count": null,
   "id": "f4b63f49",
   "metadata": {
    "vscode": {
     "languageId": "plaintext"
    }
   },
   "outputs": [],
   "source": [
    "df_usuarios.dtypes"
   ]
  },
  {
   "cell_type": "code",
   "execution_count": null,
   "id": "69300351",
   "metadata": {
    "vscode": {
     "languageId": "plaintext"
    }
   },
   "outputs": [],
   "source": [
    "df_recorridos.dtypes"
   ]
  },
  {
   "cell_type": "code",
   "execution_count": null,
   "id": "87d5f408",
   "metadata": {
    "vscode": {
     "languageId": "plaintext"
    }
   },
   "outputs": [],
   "source": [
    "df_usuarios.info()\n",
    "print(\"\")\n",
    "print(\"\")\n",
    "print(\"\")\n",
    "df_recorridos.info()"
   ]
  },
  {
   "cell_type": "code",
   "execution_count": null,
   "id": "4660f145",
   "metadata": {
    "vscode": {
     "languageId": "plaintext"
    }
   },
   "outputs": [],
   "source": [
    "sum_null_recorridos = df_recorridos.isnull().sum()\n",
    "sum_null_usuarios = df_usuarios.isnull().sum()\n",
    "\n",
    "print(sum_null_recorridos)\n",
    "print(\"\")\n",
    "print(\"\")\n",
    "print(\"\")\n",
    "print(sum_null_usuarios)"
   ]
  },
  {
   "cell_type": "code",
   "execution_count": null,
   "id": "f0846316",
   "metadata": {
    "vscode": {
     "languageId": "plaintext"
    }
   },
   "outputs": [],
   "source": [
    "df_usuarios_nuevo = df_usuarios.copy()\n",
    "df_recorridos_nuevo = df_recorridos.copy()\n"
   ]
  },
  {
   "cell_type": "code",
   "execution_count": null,
   "id": "2d9698c3",
   "metadata": {
    "vscode": {
     "languageId": "plaintext"
    }
   },
   "outputs": [],
   "source": [
    "# Combine 'fecha_alta' and 'hora_alta' into a single datetime column\n",
    "df_usuarios_nuevo['fecha_hora_alta'] = pd.to_datetime(df_usuarios_nuevo['fecha_alta'] + ' ' + df_usuarios_nuevo['hora_alta'])\n",
    "\n",
    "# Drop the original 'fecha_alta' and 'hora_alta' columns from df_usuarios_nuevo if no longer needed\n",
    "df_usuarios_nuevo = df_usuarios_nuevo.drop(['fecha_alta', 'hora_alta'], axis=1)\n",
    "\n",
    "# Display the data types to verify the conversion\n",
    "display(df_usuarios_nuevo.dtypes)"
   ]
  },
  {
   "cell_type": "code",
   "execution_count": null,
   "id": "8561a261",
   "metadata": {
    "vscode": {
     "languageId": "plaintext"
    }
   },
   "outputs": [],
   "source": [
    "df_recorridos_nuevo['fecha_origen_recorrido'] = pd.to_datetime(df_recorridos_nuevo['fecha_origen_recorrido'])\n",
    "df_recorridos_nuevo['fecha_destino_recorrido'] = pd.to_datetime(df_recorridos_nuevo['fecha_destino_recorrido'])\n",
    "\n",
    "display(df_recorridos_nuevo.dtypes)"
   ]
  },
  {
   "cell_type": "markdown",
   "id": "04eabbcc",
   "metadata": {},
   "source": [
    "FILTRAR VIAJES JULIO - SEPTIEMBRE 2024"
   ]
  },
  {
   "cell_type": "code",
   "execution_count": null,
   "id": "1d42fdbe",
   "metadata": {
    "vscode": {
     "languageId": "plaintext"
    }
   },
   "outputs": [],
   "source": [
    "df_recorridos_filtrados = df_recorridos_nuevo[(df_recorridos_nuevo['fecha_origen_recorrido'] >= '2024-07-01') & (df_recorridos_nuevo['fecha_origen_recorrido'] <= '2024-09-30')]\n",
    "df_recorridos_filtrados.to_csv('recorridos_3meses.csv', index=False)"
   ]
  },
  {
   "cell_type": "markdown",
   "id": "4947fd23",
   "metadata": {},
   "source": [
    "VERIFICAR CLAVE DE UNION"
   ]
  },
  {
   "cell_type": "code",
   "execution_count": null,
   "id": "81e2c644",
   "metadata": {
    "vscode": {
     "languageId": "plaintext"
    }
   },
   "outputs": [],
   "source": [
    "merged_df = pd.merge(df_recorridos_filtrados, df_usuarios_nuevo, on='id_usuario', how='left')\n",
    "\n",
    "display(merged_df.head())"
   ]
  },
  {
   "cell_type": "code",
   "execution_count": null,
   "id": "8225b01a",
   "metadata": {
    "vscode": {
     "languageId": "plaintext"
    }
   },
   "outputs": [],
   "source": [
    "filtered_users_df = df_usuarios_nuevo[df_usuarios_nuevo['id_usuario'] == 569548]\n",
    "display(filtered_users_df)"
   ]
  },
  {
   "cell_type": "code",
   "execution_count": null,
   "id": "4eea35ba",
   "metadata": {
    "vscode": {
     "languageId": "plaintext"
    }
   },
   "outputs": [],
   "source": [
    "filtered_users_df = df_usuarios_nuevo[df_usuarios_nuevo['id_usuario'] == 569548]\n",
    "display(filtered_users_df)"
   ]
  },
  {
   "cell_type": "code",
   "execution_count": null,
   "id": "1666cc5b",
   "metadata": {
    "vscode": {
     "languageId": "plaintext"
    }
   },
   "outputs": [],
   "source": [
    "recorridos_usuarios_3meses = merged_df.to_csv('recorridos_usuarios_3meses.csv', index=False)"
   ]
  }
 ],
 "metadata": {
  "language_info": {
   "name": "python"
  }
 },
 "nbformat": 4,
 "nbformat_minor": 5
}
